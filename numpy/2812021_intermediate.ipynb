{
 "cells": [
  {
   "cell_type": "code",
   "execution_count": 1,
   "metadata": {},
   "outputs": [
    {
     "output_type": "execute_result",
     "data": {
      "text/plain": [
       "array([[1, 1],\n",
       "       [1, 1]], dtype=int8)"
      ]
     },
     "metadata": {},
     "execution_count": 1
    }
   ],
   "source": [
    "# creating arrays of ones, but with differing dtypes\n",
    "import numpy as np\n",
    "int_ones = np.ones((2,2),dtype = np.int8)\n",
    "int_ones"
   ]
  },
  {
   "cell_type": "code",
   "execution_count": 2,
   "metadata": {},
   "outputs": [
    {
     "output_type": "execute_result",
     "data": {
      "text/plain": [
       "array([[1, 1],\n",
       "       [1, 1]], dtype=uint8)"
      ]
     },
     "metadata": {},
     "execution_count": 2
    }
   ],
   "source": [
    "#creating an array filled with unsigned integers:\n",
    "uint_ones = np.ones((2,2),dtype = np.uint8)\n",
    "uint_ones"
   ]
  },
  {
   "cell_type": "code",
   "execution_count": 3,
   "metadata": {},
   "outputs": [
    {
     "output_type": "execute_result",
     "data": {
      "text/plain": [
       "array(['sam', 'Bill', 'Gery'], dtype='<U4')"
      ]
     },
     "metadata": {},
     "execution_count": 3
    }
   ],
   "source": [
    "#creating array filled with strings\n",
    "string_arr = np.array([\"sam\",\"Bill\",\"Gery\"])\n",
    "string_arr"
   ]
  },
  {
   "cell_type": "code",
   "execution_count": 4,
   "metadata": {},
   "outputs": [
    {
     "output_type": "execute_result",
     "data": {
      "text/plain": [
       "array(['sam', 'Wald', 'Gery'], dtype='<U4')"
      ]
     },
     "metadata": {},
     "execution_count": 4
    }
   ],
   "source": [
    "#always specify your data type explicitely\n",
    "string_arr[1]=\"Waldo\"\n",
    "string_arr"
   ]
  },
  {
   "source": [
    "## Special Numeric Values\n",
    "\n",
    "nan:->Not a number.\n",
    "inf:->indicates a quantity that is arbitrarily large.\n",
    "-inf :-> indicates a quantity that is arbitrarily small.\n",
    "(==) sign does not work for nan, but work for inf."
   ],
   "cell_type": "markdown",
   "metadata": {}
  },
  {
   "cell_type": "code",
   "execution_count": 5,
   "metadata": {},
   "outputs": [
    {
     "output_type": "execute_result",
     "data": {
      "text/plain": [
       "array([ inf, -inf,  nan], dtype=float16)"
      ]
     },
     "metadata": {},
     "execution_count": 5
    }
   ],
   "source": [
    "#write a program to create an array filled with 1,-1 and 0, and then divide it by zero. \n",
    "\n",
    "vec1 = np.array([1,-1,0],dtype=np.float16)\n",
    "vec2= vec1/0\n",
    "vec2"
   ]
  },
  {
   "cell_type": "code",
   "execution_count": 6,
   "metadata": {},
   "outputs": [
    {
     "output_type": "stream",
     "name": "stdout",
     "text": [
      "inf\n-----\ninf: True\n-inf: False\nNaN: False\n\n\n\n-inf\n-----\ninf: False\n-inf: True\nNaN: False\n\n\n\nnan\n-----\ninf: False\n-inf: False\nNaN: False\n\n\n\n"
     ]
    }
   ],
   "source": [
    "#How can we detect special values?\n",
    "for i in vec2:\n",
    "    print(i)\n",
    "    print('-----')\n",
    "    print('inf: '+str(i==np.inf))\n",
    "    print('-inf: '+str(i==-np.inf))\n",
    "    print('NaN: ' +str(i==np.nan)) #Dosent work!\n",
    "    print('\\n\\n')"
   ]
  },
  {
   "cell_type": "code",
   "execution_count": 7,
   "metadata": {},
   "outputs": [
    {
     "output_type": "stream",
     "name": "stdout",
     "text": [
      "inf\n------\ninf: True\n-inf: False\nNan: False\n\n\n\n-inf\n------\ninf: False\n-inf: True\nNan: False\n\n\n\nnan\n------\ninf: False\n-inf: False\nNan: True\n\n\n\n"
     ]
    }
   ],
   "source": [
    "#Abetter way \n",
    "for i in vec2:\n",
    "    print(i)\n",
    "    print('------')\n",
    "    print('inf: '+str(i==np.inf))\n",
    "    print(\"-inf: \"+str(i==-np.inf))\n",
    "    print('Nan: '+str(np.isnan(i)))  #does work!\n",
    "    print(\"\\n\\n\")"
   ]
  },
  {
   "cell_type": "code",
   "execution_count": 8,
   "metadata": {},
   "outputs": [
    {
     "output_type": "stream",
     "name": "stdout",
     "text": [
      "inf\n------\nis finite: False\nis infinite: True\n\n\n\n-inf\n------\nis finite: False\nis infinite: True\n\n\n\nnan\n------\nis finite: False\nis infinite: False\n\n\n\n"
     ]
    }
   ],
   "source": [
    "#write a numpy program to detect finite versus infinite:\n",
    "\n",
    "for i in vec2:\n",
    "    print(i)\n",
    "    print('------')\n",
    "    print('is finite: '+ str(np.isfinite(i)))\n",
    "    print('is infinite: '+ str(np.isinf(i)))\n",
    "    print('\\n\\n')"
   ]
  },
  {
   "cell_type": "code",
   "execution_count": 9,
   "metadata": {},
   "outputs": [
    {
     "output_type": "execute_result",
     "data": {
      "text/plain": [
       "array([999.])"
      ]
     },
     "metadata": {},
     "execution_count": 9
    }
   ],
   "source": [
    "vec3 = np.array([999],dtype=np.float64)\n",
    "vec3"
   ]
  },
  {
   "cell_type": "code",
   "execution_count": 10,
   "metadata": {},
   "outputs": [
    {
     "output_type": "execute_result",
     "data": {
      "text/plain": [
       "inf"
      ]
     },
     "metadata": {},
     "execution_count": 10
    }
   ],
   "source": [
    "vec3[0]**vec3[0]"
   ]
  },
  {
   "cell_type": "code",
   "execution_count": 11,
   "metadata": {},
   "outputs": [
    {
     "output_type": "execute_result",
     "data": {
      "text/plain": [
       "array([nan,  1.,  1.,  1.,  1.])"
      ]
     },
     "metadata": {},
     "execution_count": 11
    }
   ],
   "source": [
    "vec4 = np.ones(5)\n",
    "vec4[0]=np.nan\n",
    "vec4"
   ]
  },
  {
   "cell_type": "code",
   "execution_count": 12,
   "metadata": {},
   "outputs": [
    {
     "output_type": "execute_result",
     "data": {
      "text/plain": [
       "nan"
      ]
     },
     "metadata": {},
     "execution_count": 12
    }
   ],
   "source": [
    "np.sum(vec4)"
   ]
  },
  {
   "cell_type": "code",
   "execution_count": 13,
   "metadata": {},
   "outputs": [
    {
     "output_type": "execute_result",
     "data": {
      "text/plain": [
       "4.0"
      ]
     },
     "metadata": {},
     "execution_count": 13
    }
   ],
   "source": [
    "np.nansum(vec4)"
   ]
  },
  {
   "source": [
    "# Creating Numpy array\n",
    "\n",
    "## Creating ndarray"
   ],
   "cell_type": "markdown",
   "metadata": {}
  },
  {
   "cell_type": "code",
   "execution_count": 14,
   "metadata": {},
   "outputs": [
    {
     "output_type": "stream",
     "name": "stdout",
     "text": [
      "[1. 1. 1. 1. 1.]\n"
     ]
    }
   ],
   "source": [
    "import numpy as np \n",
    "\n",
    "vec1 = np.ones((5))\n",
    "\n",
    "print(vec1)"
   ]
  },
  {
   "cell_type": "code",
   "execution_count": 15,
   "metadata": {},
   "outputs": [
    {
     "output_type": "execute_result",
     "data": {
      "text/plain": [
       "dtype('float64')"
      ]
     },
     "metadata": {},
     "execution_count": 15
    }
   ],
   "source": [
    "vec1.dtype"
   ]
  },
  {
   "cell_type": "code",
   "execution_count": 16,
   "metadata": {},
   "outputs": [
    {
     "output_type": "stream",
     "name": "stdout",
     "text": [
      "[  0   0   0   0   0   0 -16  63   0   0   0   0   0   0 -16  63   0   0\n   0   0   0   0 -16  63   0   0   0   0   0   0 -16  63   0   0   0   0\n   0   0 -16  63]\n"
     ]
    },
    {
     "output_type": "execute_result",
     "data": {
      "text/plain": [
       "dtype('int8')"
      ]
     },
     "metadata": {},
     "execution_count": 16
    }
   ],
   "source": [
    "#the wrong way\n",
    "vec1.dtype=np.int8\n",
    "print(vec1)\n",
    "vec1.dtype"
   ]
  },
  {
   "cell_type": "code",
   "execution_count": 17,
   "metadata": {},
   "outputs": [
    {
     "output_type": "stream",
     "name": "stdout",
     "text": [
      "[1 1 1 1 1]\n"
     ]
    }
   ],
   "source": [
    "#The correct way\n",
    "vec1 = np.ones((5))\n",
    "vec1 = np.array(vec1, dtype=np.int8)\n",
    "print(vec1)"
   ]
  },
  {
   "cell_type": "code",
   "execution_count": 18,
   "metadata": {},
   "outputs": [
    {
     "output_type": "stream",
     "name": "stdout",
     "text": [
      "int8\n"
     ]
    }
   ],
   "source": [
    "print(vec1.dtype)"
   ]
  },
  {
   "cell_type": "code",
   "execution_count": 19,
   "metadata": {},
   "outputs": [
    {
     "output_type": "execute_result",
     "data": {
      "text/plain": [
       "array([1, 1, 1, 1, 1], dtype=int8)"
      ]
     },
     "metadata": {},
     "execution_count": 19
    }
   ],
   "source": [
    "vec1"
   ]
  },
  {
   "cell_type": "code",
   "execution_count": 20,
   "metadata": {},
   "outputs": [
    {
     "output_type": "execute_result",
     "data": {
      "text/plain": [
       "array([[[0., 0.],\n",
       "        [0., 0.]],\n",
       "\n",
       "       [[0., 0.],\n",
       "        [0., 0.]]])"
      ]
     },
     "metadata": {},
     "execution_count": 20
    }
   ],
   "source": [
    "#three dimensional array\n",
    "arr1 = np.zeros((2,2,2),dtype=np.float64)\n",
    "arr1"
   ]
  },
  {
   "cell_type": "code",
   "execution_count": 21,
   "metadata": {},
   "outputs": [
    {
     "output_type": "execute_result",
     "data": {
      "text/plain": [
       "array([[-0.26939652, -0.88834443, -0.20841095],\n",
       "       [ 2.08533131, -1.38516129, -1.56280387],\n",
       "       [-0.32849429,  1.73964854,  0.51429364]])"
      ]
     },
     "metadata": {},
     "execution_count": 21
    }
   ],
   "source": [
    "#write a numpy program to create a matrix filled with random data\n",
    "mat1 = np.random.randn(3,3)\n",
    "mat1"
   ]
  },
  {
   "cell_type": "code",
   "execution_count": 22,
   "metadata": {},
   "outputs": [
    {
     "output_type": "stream",
     "name": "stdout",
     "text": [
      "[['boo' 'jane']\n ['bill' 'janet']]\n"
     ]
    }
   ],
   "source": [
    "mat2 = np.array([[\"boo\",'jane'],[\"bill\",\"janet\"]])\n",
    "print(mat2)"
   ]
  },
  {
   "cell_type": "code",
   "execution_count": 23,
   "metadata": {},
   "outputs": [
    {
     "output_type": "execute_result",
     "data": {
      "text/plain": [
       "dtype('<U5')"
      ]
     },
     "metadata": {},
     "execution_count": 23
    }
   ],
   "source": [
    "mat2.dtype"
   ]
  },
  {
   "cell_type": "code",
   "execution_count": 24,
   "metadata": {},
   "outputs": [
    {
     "output_type": "stream",
     "name": "stdout",
     "text": [
      "[[[ 1.  3.  5.]\n  [ 2.  4.  5.]]\n\n [[ 1. nan  1.]\n  [ 2.  2.  2.]]]\n"
     ]
    }
   ],
   "source": [
    "#using tuple to create an array\n",
    "arr2 = np.array([[(1,3,5),(2,4,5)],[(1,np.nan,1),(2,2,2)]])\n",
    "print(arr2)"
   ]
  },
  {
   "cell_type": "code",
   "execution_count": 25,
   "metadata": {},
   "outputs": [
    {
     "output_type": "stream",
     "name": "stdout",
     "text": [
      "[['amy' 'jane']\n ['bill' 'janet']]\n"
     ]
    }
   ],
   "source": [
    "#to get independent copy of any array use copy()\n",
    "\n",
    "mat2_cpy = mat2.copy()\n",
    "mat2[0,0]=\"amy\"\n",
    "print(mat2)"
   ]
  },
  {
   "cell_type": "code",
   "execution_count": 26,
   "metadata": {},
   "outputs": [
    {
     "output_type": "execute_result",
     "data": {
      "text/plain": [
       "'/home/jagdish/pytn/data science/numpy'"
      ]
     },
     "metadata": {},
     "execution_count": 26
    }
   ],
   "source": [
    "%pwd"
   ]
  },
  {
   "cell_type": "code",
   "execution_count": 27,
   "metadata": {},
   "outputs": [],
   "source": [
    "#to change directory\n",
    "#%cd D"
   ]
  },
  {
   "cell_type": "code",
   "execution_count": 28,
   "metadata": {},
   "outputs": [],
   "source": [
    "#create an npy file, which is a native file format for NumPy.\n",
    "#this is binary file now in our working directory\n",
    "np.save(\"arr1\",arr1)"
   ]
  },
  {
   "cell_type": "code",
   "execution_count": 29,
   "metadata": {},
   "outputs": [
    {
     "output_type": "stream",
     "name": "stdout",
     "text": [
      "[[[0. 0.]\n  [0. 0.]]\n\n [[0. 0.]\n  [0. 0.]]]\n"
     ]
    }
   ],
   "source": [
    "#we can load the array in this file using load()\n",
    "arr1_new = np.load(\"arr1.npy\")\n",
    "print(arr1_new)"
   ]
  },
  {
   "cell_type": "code",
   "execution_count": 30,
   "metadata": {},
   "outputs": [],
   "source": [
    "#create a csv file\n",
    "np.savetxt(\"mat1.csv\",mat1, delimiter=\",\")"
   ]
  },
  {
   "cell_type": "code",
   "execution_count": 31,
   "metadata": {},
   "outputs": [
    {
     "output_type": "stream",
     "name": "stdout",
     "text": [
      "-2.693965176108644166e-01,-8.883444258713735220e-01,-2.084109522025208716e-01\n\n2.085331314570667782e+00,-1.385161293781712377e+00,-1.562803865277407667e+00\n\n-3.284942933394364717e-01,1.739648535644215510e+00,5.142936374521165366e-01\n\n"
     ]
    }
   ],
   "source": [
    "#opening the file\n",
    "mat1file = open(\"mat1.csv\",\"r\")\n",
    "for l in mat1file:\n",
    "    print(l)"
   ]
  },
  {
   "cell_type": "code",
   "execution_count": 32,
   "metadata": {},
   "outputs": [],
   "source": [
    "#closing the file\n",
    "mat1file.close()"
   ]
  },
  {
   "source": [
    "##Loading Method\n",
    "\n",
    "**arr=load(file)**:- Load file(either a.npy or .npzfile) and store ndarray in arr\n",
    "\n",
    "\n",
    "**arr=loadtxt(file,dtype,delimiter)**:- Load ndarray in file, a text file, and save to arr, optional argument delimiter gives string or character seprating columns(so use delimiter=',' for csv file), and dtype specifies dtype(if structured, the array will be one-dimenshional, with row per datum and number of columns matching number of fields in data type)\n",
    "\n",
    "**arr=fromfile(file,count,sep)**:- arr is loaded from file(either an open file object or a filename), with array items seprated by sep; if sep=\"\",this will be a binary file(text otherwise); count determines number of items read(count=-1 for all)"
   ],
   "cell_type": "markdown",
   "metadata": {}
  },
  {
   "cell_type": "code",
   "execution_count": 33,
   "metadata": {},
   "outputs": [
    {
     "output_type": "stream",
     "name": "stdout",
     "text": [
      "[[-0.26939652 -0.88834443 -0.20841095]\n [ 2.08533131 -1.38516129 -1.56280387]\n [-0.32849429  1.73964854  0.51429364]]\n"
     ]
    }
   ],
   "source": [
    "#load the contents of the file that I have just created\n",
    "mat1_new = np.loadtxt(\"mat1.csv\",delimiter = \",\")\n",
    "print(mat1_new)"
   ]
  },
  {
   "source": [
    "# Operations on NumPy arrays\n",
    "\n",
    "## access and manipulate subsets of array data.\n",
    "\n",
    "* Slicing\n",
    "\n",
    "* Arithmetic\n",
    "\n",
    "* Linear algebra\n",
    "\n",
    "* array method and functions."
   ],
   "cell_type": "markdown",
   "metadata": {}
  },
  {
   "cell_type": "code",
   "execution_count": 34,
   "metadata": {},
   "outputs": [
    {
     "output_type": "stream",
     "name": "stdout",
     "text": [
      "[[['joey' 'bob' 'srah']\n  ['Margaret' 'Rachel' 'Jim']\n  ['Wayne' 'Joey' 'Liam']]\n\n [['Max' 'Maxine' 'Richard']\n  ['Harold' 'Curtis' 'Simon']\n  ['Bob' 'Liam' 'Simon']]\n\n [['Wayne' 'Sarah' 'Lucy']\n  ['Lucy' 'Kurtis' 'Yu']\n  ['Joye' 'Lex' 'Alex']]]\n"
     ]
    }
   ],
   "source": [
    "## Slicing array with colons\n",
    "\n",
    "import numpy as np \n",
    "\n",
    "#creating 3 dimenshional array\n",
    "\n",
    "arr1 =np.array([[[\"joey\",\"bob\",\"srah\"],\n",
    "[\"Margaret\",\"Rachel\",\"Jim\"],\n",
    "[\"Wayne\",\"Joey\",\"Liam\"]],\n",
    "\n",
    "[[\"Max\",\"Maxine\",\"Richard\"],\n",
    "[\"Harold\",\"Curtis\",\"Simon\"],\n",
    "[\"Bob\",\"Liam\",\"Simon\"]],\n",
    "\n",
    "[[\"Wayne\",\"Sarah\",\"Lucy\"],\n",
    "[\"Lucy\",\"Kurtis\",\"Yu\"],\n",
    "[\"Joye\",\"Lex\",\"Alex\"]]])\n",
    "\n",
    "print(arr1)"
   ]
  },
  {
   "cell_type": "code",
   "execution_count": 35,
   "metadata": {},
   "outputs": [
    {
     "output_type": "stream",
     "name": "stdout",
     "text": [
      "[['joey' 'Margaret' 'Wayne']\n ['Max' 'Harold' 'Bob']\n ['Wayne' 'Lucy' 'Joye']]\n"
     ]
    }
   ],
   "source": [
    "arr2 = arr1[:, :,0].copy()\n",
    "print(arr2)"
   ]
  },
  {
   "cell_type": "code",
   "execution_count": 36,
   "metadata": {},
   "outputs": [
    {
     "output_type": "stream",
     "name": "stdout",
     "text": [
      "[['joey' 'Margaret' 'Wayne']\n ['Max' 'Attila' 'Bob']\n ['Wayne' 'Lucy' 'Joye']]\n"
     ]
    }
   ],
   "source": [
    "#changing new array\n",
    "arr2[1,1]=\"Attila\"\n",
    "print(arr2)"
   ]
  },
  {
   "cell_type": "code",
   "execution_count": 37,
   "metadata": {},
   "outputs": [
    {
     "output_type": "execute_result",
     "data": {
      "text/plain": [
       "array([[['joey', 'bob', 'srah'],\n",
       "        ['Margaret', 'Rachel', 'Jim'],\n",
       "        ['Wayne', 'Joey', 'Liam']],\n",
       "\n",
       "       [['Max', 'Maxine', 'Richard'],\n",
       "        ['Harold', 'Curtis', 'Simon'],\n",
       "        ['Bob', 'Liam', 'Simon']],\n",
       "\n",
       "       [['Wayne', 'Sarah', 'Lucy'],\n",
       "        ['Lucy', 'Kurtis', 'Yu'],\n",
       "        ['Joye', 'Lex', 'Alex']]], dtype='<U8')"
      ]
     },
     "metadata": {},
     "execution_count": 37
    }
   ],
   "source": [
    "#no change in original \n",
    "arr1"
   ]
  },
  {
   "cell_type": "code",
   "execution_count": 38,
   "metadata": {},
   "outputs": [
    {
     "output_type": "stream",
     "name": "stdout",
     "text": [
      "['Max' 'Attila' 'Bob' 'Margaret' 'Lucy']\n"
     ]
    }
   ],
   "source": [
    "#choosing manually the \"cross\" elements\n",
    "print(arr2[[1,1,1,0,2],[0,1,2,1,1]])"
   ]
  },
  {
   "cell_type": "code",
   "execution_count": 39,
   "metadata": {},
   "outputs": [
    {
     "output_type": "stream",
     "name": "stdout",
     "text": [
      "[['joey' 'Margaret']\n ['Max' 'Attila']]\n"
     ]
    }
   ],
   "source": [
    "#upper-left corner\n",
    "print(arr2[:2,:2])"
   ]
  },
  {
   "cell_type": "code",
   "execution_count": 40,
   "metadata": {},
   "outputs": [
    {
     "output_type": "stream",
     "name": "stdout",
     "text": [
      "['Margaret' 'Attila' 'Lucy']\n"
     ]
    }
   ],
   "source": [
    "#selecting array from middle column\n",
    "print(arr2[:,1])"
   ]
  },
  {
   "cell_type": "code",
   "execution_count": 41,
   "metadata": {},
   "outputs": [
    {
     "output_type": "stream",
     "name": "stdout",
     "text": [
      "[['Margaret']\n ['Attila']\n ['Lucy']]\n"
     ]
    }
   ],
   "source": [
    "#select element from the middle column but we will not flatten the matrix and we'll keep its shape:\n",
    "\n",
    "print(arr2[:,[1]])"
   ]
  },
  {
   "cell_type": "code",
   "execution_count": 42,
   "metadata": {},
   "outputs": [
    {
     "output_type": "stream",
     "name": "stdout",
     "text": [
      "['Attila' 'Lucy']\n"
     ]
    }
   ],
   "source": [
    "#last two rows of middle column\n",
    "print(arr2[1:,1])"
   ]
  },
  {
   "cell_type": "code",
   "execution_count": 43,
   "metadata": {},
   "outputs": [
    {
     "output_type": "stream",
     "name": "stdout",
     "text": [
      "[['Wayne' 'Lucy' 'Joye']\n ['Max' 'Attila' 'Bob']\n ['joey' 'Margaret' 'Wayne']]\n"
     ]
    }
   ],
   "source": [
    "#Reverse the row order\n",
    "print(arr2[::-1,:])"
   ]
  },
  {
   "cell_type": "code",
   "execution_count": 44,
   "metadata": {},
   "outputs": [
    {
     "output_type": "stream",
     "name": "stdout",
     "text": [
      "[['joey' 'Wayne']\n ['Max' 'Bob']\n ['Wayne' 'Joye']]\n"
     ]
    }
   ],
   "source": [
    "#selecting odd-number colums\n",
    "print(arr2[:,0:3:2])"
   ]
  },
  {
   "cell_type": "code",
   "execution_count": 45,
   "metadata": {},
   "outputs": [
    {
     "output_type": "stream",
     "name": "stdout",
     "text": [
      "[[['joey' 'bob']\n  ['Margaret' 'Rachel']]\n\n [['Max' 'Maxine']\n  ['Harold' 'Curtis']]]\n"
     ]
    }
   ],
   "source": [
    "#choose a 2x2x2 corner cube:\n",
    "print(arr1[0:2, 0:2, 0:2])"
   ]
  },
  {
   "cell_type": "code",
   "execution_count": 46,
   "metadata": {},
   "outputs": [
    {
     "output_type": "stream",
     "name": "stdout",
     "text": [
      "[[['Margaret' 'Rachel' 'Jim']]\n\n [['Harold' 'Curtis' 'Simon']]\n\n [['Lucy' 'Kurtis' 'Yu']]]\n"
     ]
    }
   ],
   "source": [
    "#selecting the middle slice, but keep an extra dimension\n",
    "print(arr1[:,1, np.newaxis, :])"
   ]
  },
  {
   "source": [
    "## Advance Indexing"
   ],
   "cell_type": "markdown",
   "metadata": {}
  },
  {
   "cell_type": "code",
   "execution_count": 47,
   "metadata": {},
   "outputs": [
    {
     "output_type": "stream",
     "name": "stdout",
     "text": [
      "['joey' 'Margaret' 'Wayne' 'Max' 'Attila' 'Bob' 'Wayne' 'Lucy' 'Joye']\n"
     ]
    }
   ],
   "source": [
    "#Select The element of arr2 that are not wayne\n",
    "print(arr2[arr2 !=\"wayne\"])"
   ]
  },
  {
   "cell_type": "code",
   "execution_count": 48,
   "metadata": {},
   "outputs": [
    {
     "output_type": "stream",
     "name": "stdout",
     "text": [
      "[[ True  True  True]\n [ True  True  True]\n [ True  True  True]]\n"
     ]
    }
   ],
   "source": [
    "#A peak of the indexing boolean array\n",
    "print(arr2 !=\"wayne\")"
   ]
  },
  {
   "cell_type": "code",
   "execution_count": 49,
   "metadata": {},
   "outputs": [
    {
     "output_type": "stream",
     "name": "stdout",
     "text": [
      "[['joey' 'Wayne']\n ['Wayne' 'Bob']]\n"
     ]
    }
   ],
   "source": [
    "#Select, effectively, an array holding the data in the corners\n",
    "idx0 = np.array([[0,0],[2,-2]])\n",
    "\n",
    "idx1 = np.array([[0,2],[0,2]])\n",
    "\n",
    "print(arr2[idx0, idx1])"
   ]
  },
  {
   "cell_type": "code",
   "execution_count": 50,
   "metadata": {},
   "outputs": [
    {
     "output_type": "stream",
     "name": "stdout",
     "text": [
      "['joey' 'bob' 'srah' 'Margaret' 'Rachel' 'Jim' 'Wayne' 'Joey' 'Liam' 'Max'\n 'Maxine' 'Richard' 'Harold' 'Simon' 'Bob' 'Liam' 'Simon' 'Wayne' 'Sarah'\n 'Lucy' 'Lucy' 'Kurtis' 'Yu' 'Joye' 'Lex' 'Alex']\n"
     ]
    }
   ],
   "source": [
    "#All entries that are not Curtis\n",
    "print(arr1[arr1 !=\"Curtis\"])"
   ]
  },
  {
   "cell_type": "code",
   "execution_count": 51,
   "metadata": {},
   "outputs": [
    {
     "output_type": "stream",
     "name": "stdout",
     "text": [
      "[[[ True  True  True]\n  [ True  True  True]\n  [ True  True  True]]\n\n [[ True  True  True]\n  [ True False  True]\n  [ True  True  True]]\n\n [[ True  True  True]\n  [ True  True  True]\n  [ True  True  True]]]\n"
     ]
    }
   ],
   "source": [
    "#A peak at the indexing array\n",
    "print(arr1 !=\"Curtis\")"
   ]
  },
  {
   "cell_type": "code",
   "execution_count": 52,
   "metadata": {},
   "outputs": [
    {
     "output_type": "stream",
     "name": "stdout",
     "text": [
      "[[['joey' 'Wayne']\n  ['Lucy' 'Simon']]\n\n [['joey' 'Wayne']\n  ['Lucy' 'Simon']]]\n"
     ]
    }
   ],
   "source": [
    "# Get a 2x2x2 matrix with corner element\n",
    "#Row indices\n",
    "idx = np.array([[[0,0],[0,0]],[[2,2],[2,2]]])\n",
    "\n",
    "#Column indices\n",
    "idx1 = np.array([[[0,2],[0,2]],[[0,2],[0,2]]])\n",
    "\n",
    "#depth indices\n",
    "idx2 = np.array([[[0,0],[2,2]],[[0,0],[2,2]]])\n",
    "\n",
    "print(arr1[idx0,idx1,idx2])"
   ]
  },
  {
   "source": [
    "## Expanding arrays"
   ],
   "cell_type": "markdown",
   "metadata": {}
  },
  {
   "cell_type": "code",
   "execution_count": 53,
   "metadata": {},
   "outputs": [
    {
     "output_type": "stream",
     "name": "stdout",
     "text": [
      "[['joey' 'Margaret' 'Wayne']\n ['Max' 'Attila' 'Bob']\n ['Wayne' 'Lucy' 'Joye']\n ['sam' 'Joe' 'Bill']]\n"
     ]
    }
   ],
   "source": [
    "#The concatenate function allows binding arrays together along a common axis\n",
    "\n",
    "#add a new row\n",
    "arr2 = np.concatenate((arr2, np.array([[\"sam\",\"Joe\",\"Bill\"]])),axis=0)\n",
    "print(arr2)"
   ]
  },
  {
   "cell_type": "code",
   "execution_count": 54,
   "metadata": {},
   "outputs": [
    {
     "output_type": "stream",
     "name": "stdout",
     "text": [
      "[['joey' 'Margaret' 'Wayne' 'Maya']\n ['Max' 'Attila' 'Bob' 'Nana']\n ['Wayne' 'Lucy' 'Joye' 'Gus']\n ['sam' 'Joe' 'Bill' 'Greg']]\n"
     ]
    }
   ],
   "source": [
    "#Add a new column\n",
    "arr2 = np.concatenate((arr2, np.array([[\"Maya\"],[\"Nana\"],[\"Gus\"],[\"Greg\"]])),axis=1)\n",
    "print(arr2)"
   ]
  },
  {
   "source": [
    "## Arithematic and linear algebra with arrays"
   ],
   "cell_type": "markdown",
   "metadata": {}
  },
  {
   "cell_type": "code",
   "execution_count": 55,
   "metadata": {},
   "outputs": [
    {
     "output_type": "stream",
     "name": "stdout",
     "text": [
      "[[[  0  -4   9]\n  [ -2   6  14]\n  [ 11   6  -3]]\n\n [[  3 -10   3]\n  [-10  -3  11]\n  [ 18   0  -2]]\n\n [[  1   3  -2]\n  [  6  -3  15]\n  [ -6   5   4]]]\n"
     ]
    }
   ],
   "source": [
    "import numpy as np \n",
    "from numpy.random import randn\n",
    "import numpy.linalg as ln \n",
    "\n",
    "arr1 = np.array(randn(3,3,3)*10, dtype = np.int64)\n",
    "arr2 = np.array(randn(3,3,3)*10, dtype = np.int64)\n",
    "print(arr1)"
   ]
  },
  {
   "cell_type": "code",
   "execution_count": 56,
   "metadata": {},
   "outputs": [
    {
     "output_type": "stream",
     "name": "stdout",
     "text": [
      "[[[ -5   2   2]\n  [ -7  12   0]\n  [ 16  -3  -6]]\n\n [[ -3 -13   8]\n  [ 20 -21  -5]\n  [ 12  -9  -4]]\n\n [[-10  -3  -1]\n  [ 13  17  22]\n  [-15   7   6]]]\n"
     ]
    }
   ],
   "source": [
    "print(arr2)"
   ]
  },
  {
   "cell_type": "code",
   "execution_count": 57,
   "metadata": {},
   "outputs": [
    {
     "output_type": "stream",
     "name": "stdout",
     "text": [
      "[[[100  96 109]\n  [ 98 106 114]\n  [111 106  97]]\n\n [[103  90 103]\n  [ 90  97 111]\n  [118 100  98]]\n\n [[101 103  98]\n  [106  97 115]\n  [ 94 105 104]]]\n"
     ]
    }
   ],
   "source": [
    "#it can involve arrays and scalars\n",
    "print(arr1+100)"
   ]
  },
  {
   "cell_type": "code",
   "execution_count": 58,
   "metadata": {},
   "outputs": [
    {
     "output_type": "stream",
     "name": "stdout",
     "text": [
      "[[[ 0.  -2.   4.5]\n  [-1.   3.   7. ]\n  [ 5.5  3.  -1.5]]\n\n [[ 1.5 -5.   1.5]\n  [-5.  -1.5  5.5]\n  [ 9.   0.  -1. ]]\n\n [[ 0.5  1.5 -1. ]\n  [ 3.  -1.5  7.5]\n  [-3.   2.5  2. ]]]\n"
     ]
    }
   ],
   "source": [
    "#divide element in arr1 by 2\n",
    "print(arr1/2)"
   ]
  },
  {
   "cell_type": "code",
   "execution_count": 59,
   "metadata": {},
   "outputs": [
    {
     "output_type": "stream",
     "name": "stdout",
     "text": [
      "[[[  0  16  81]\n  [  4  36 196]\n  [121  36   9]]\n\n [[  9 100   9]\n  [100   9 121]\n  [324   0   4]]\n\n [[  1   9   4]\n  [ 36   9 225]\n  [ 36  25  16]]]\n"
     ]
    }
   ],
   "source": [
    "#raise every element in arr1 to the power of 2\n",
    "print(arr1**2)"
   ]
  },
  {
   "cell_type": "code",
   "execution_count": 60,
   "metadata": {},
   "outputs": [
    {
     "output_type": "stream",
     "name": "stdout",
     "text": [
      "[[[   0   -8   18]\n  [  14   72    0]\n  [ 176  -18   18]]\n\n [[  -9  130   24]\n  [-200   63  -55]\n  [ 216    0    8]]\n\n [[ -10   -9    2]\n  [  78  -51  330]\n  [  90   35   24]]]\n"
     ]
    }
   ],
   "source": [
    "#multiply content of arr1 and arr2\n",
    "\n",
    "print(arr1 * arr2)"
   ]
  },
  {
   "cell_type": "code",
   "execution_count": 61,
   "metadata": {},
   "outputs": [
    {
     "output_type": "stream",
     "name": "stdout",
     "text": [
      "[[[            inf             nan  3.00000000e+00]\n  [            nan  2.16000000e+02  1.00000000e+00]\n  [ 1.46410000e+04  2.60847430e-01             nan]]\n\n [[ 4.38691338e-01             nan  9.00000000e+00]\n  [-1.00000000e+05             nan  4.99182261e-02]\n  [ 5.83200000e+03             inf -5.00000000e-01]]\n\n [[ 1.00000000e+00  4.38691338e-01             nan]\n  [ 3.38058269e+02             nan  2.94104673e+06]\n  [            nan  1.67185076e+01  8.00000000e+00]]]\n"
     ]
    }
   ],
   "source": [
    "print(arr1**(arr2/4))"
   ]
  },
  {
   "source": [
    "## Broadcasting"
   ],
   "cell_type": "markdown",
   "metadata": {}
  },
  {
   "cell_type": "code",
   "execution_count": 67,
   "metadata": {},
   "outputs": [],
   "source": [
    "arr3 = np.array(randn(1,1,3))"
   ]
  },
  {
   "cell_type": "code",
   "execution_count": 68,
   "metadata": {},
   "outputs": [
    {
     "output_type": "stream",
     "name": "stdout",
     "text": [
      "(1, 1, 3)\n"
     ]
    }
   ],
   "source": [
    "print(arr3.shape)"
   ]
  },
  {
   "cell_type": "code",
   "execution_count": null,
   "metadata": {},
   "outputs": [],
   "source": []
  },
  {
   "cell_type": "code",
   "execution_count": 69,
   "metadata": {},
   "outputs": [
    {
     "output_type": "stream",
     "name": "stdout",
     "text": [
      "[[[ 0.          4.85214862 -5.76796357]\n  [-1.29698518 -7.27822293 -8.97238777]\n  [ 7.13341848 -7.27822293  1.92265452]]\n\n [[ 1.94547777 12.13037155 -1.92265452]\n  [-6.48492589  3.63911146 -7.04973325]\n  [11.67286661 -0.          1.28176968]]\n\n [[ 0.64849259 -3.63911146  1.28176968]\n  [ 3.89095554  3.63911146 -9.61327261]\n  [-3.89095554 -6.06518577 -2.56353936]]]\n"
     ]
    }
   ],
   "source": [
    "print(arr1*arr3)"
   ]
  },
  {
   "cell_type": "code",
   "execution_count": 70,
   "metadata": {},
   "outputs": [
    {
     "output_type": "stream",
     "name": "stdout",
     "text": [
      "[[[ 0.64849259]\n  [-1.21303715]\n  [-0.64088484]]]\n"
     ]
    }
   ],
   "source": [
    "arr4 = arr3.transpose((0,2,1))\n",
    "print(arr4)"
   ]
  },
  {
   "cell_type": "code",
   "execution_count": 71,
   "metadata": {},
   "outputs": [
    {
     "output_type": "stream",
     "name": "stdout",
     "text": [
      "[[[  0.          -2.59397036   5.83643331]\n  [  2.42607431  -7.27822293 -16.98252017]\n  [ -7.04973325  -3.84530904   1.92265452]]\n\n [[  1.94547777  -6.48492589   1.94547777]\n  [ 12.13037155   3.63911146 -13.3434087 ]\n  [-11.53592713  -0.           1.28176968]]\n\n [[  0.64849259   1.94547777  -1.29698518]\n  [ -7.27822293   3.63911146 -18.19555732]\n  [  3.84530904  -3.2044242   -2.56353936]]]\n"
     ]
    }
   ],
   "source": [
    "print(arr1*arr4)"
   ]
  },
  {
   "cell_type": "code",
   "execution_count": 72,
   "metadata": {},
   "outputs": [
    {
     "output_type": "stream",
     "name": "stdout",
     "text": [
      "[[[ 0.64849259]]\n\n [[-1.21303715]]\n\n [[-0.64088484]]]\n"
     ]
    }
   ],
   "source": [
    "arr5 = arr3.transpose((2,0,1))\n",
    "print(arr5)"
   ]
  },
  {
   "cell_type": "code",
   "execution_count": 73,
   "metadata": {},
   "outputs": [
    {
     "output_type": "stream",
     "name": "stdout",
     "text": [
      "[[[  0.          -2.59397036   5.83643331]\n  [ -1.29698518   3.89095554   9.07889625]\n  [  7.13341848   3.89095554  -1.94547777]]\n\n [[ -3.63911146  12.13037155  -3.63911146]\n  [ 12.13037155   3.63911146 -13.3434087 ]\n  [-21.83466879  -0.           2.42607431]]\n\n [[ -0.64088484  -1.92265452   1.28176968]\n  [ -3.84530904   1.92265452  -9.61327261]\n  [  3.84530904  -3.2044242   -2.56353936]]]\n"
     ]
    }
   ],
   "source": [
    "print(arr1*arr5)"
   ]
  },
  {
   "source": [
    "# Linear algebra"
   ],
   "cell_type": "markdown",
   "metadata": {}
  },
  {
   "cell_type": "code",
   "execution_count": 74,
   "metadata": {},
   "outputs": [
    {
     "output_type": "stream",
     "name": "stdout",
     "text": [
      "[[[ 0.64849259]\n  [-1.21303715]\n  [-0.64088484]]]\n"
     ]
    }
   ],
   "source": [
    "arr4 = arr3.transpose((0,2,1))\n",
    "print(arr4)"
   ]
  },
  {
   "cell_type": "code",
   "execution_count": 75,
   "metadata": {},
   "outputs": [
    {
     "output_type": "stream",
     "name": "stdout",
     "text": [
      "[0 1 2 3 4 5 6 7]\n"
     ]
    }
   ],
   "source": [
    "arr6 = np.arange(0,8)\n",
    "print(arr6)"
   ]
  },
  {
   "cell_type": "code",
   "execution_count": 76,
   "metadata": {},
   "outputs": [
    {
     "output_type": "stream",
     "name": "stdout",
     "text": [
      "[[[0 1]\n  [2 3]]\n\n [[4 5]\n  [6 7]]]\n"
     ]
    }
   ],
   "source": [
    "print(arr6.reshape(2,2,2))"
   ]
  },
  {
   "cell_type": "code",
   "execution_count": 77,
   "metadata": {},
   "outputs": [
    {
     "output_type": "stream",
     "name": "stdout",
     "text": [
      "[[5.1 3.5 1.4 0.2]\n [4.9 3.  1.4 0.2]\n [4.7 3.2 1.3 0.2]\n [4.6 3.1 1.5 0.2]\n [5.  3.6 1.4 0.2]\n [5.4 3.9 1.7 0.4]\n [4.6 3.4 1.4 0.3]\n [5.  3.4 1.5 0.2]\n [4.4 2.9 1.4 0.2]\n [4.9 3.1 1.5 0.1]\n [5.4 3.7 1.5 0.2]\n [4.8 3.4 1.6 0.2]\n [4.8 3.  1.4 0.1]\n [4.3 3.  1.1 0.1]\n [5.8 4.  1.2 0.2]\n [5.7 4.4 1.5 0.4]\n [5.4 3.9 1.3 0.4]\n [5.1 3.5 1.4 0.3]\n [5.7 3.8 1.7 0.3]\n [5.1 3.8 1.5 0.3]\n [5.4 3.4 1.7 0.2]\n [5.1 3.7 1.5 0.4]\n [4.6 3.6 1.  0.2]\n [5.1 3.3 1.7 0.5]\n [4.8 3.4 1.9 0.2]\n [5.  3.  1.6 0.2]\n [5.  3.4 1.6 0.4]\n [5.2 3.5 1.5 0.2]\n [5.2 3.4 1.4 0.2]\n [4.7 3.2 1.6 0.2]\n [4.8 3.1 1.6 0.2]\n [5.4 3.4 1.5 0.4]\n [5.2 4.1 1.5 0.1]\n [5.5 4.2 1.4 0.2]\n [4.9 3.1 1.5 0.2]\n [5.  3.2 1.2 0.2]\n [5.5 3.5 1.3 0.2]\n [4.9 3.6 1.4 0.1]\n [4.4 3.  1.3 0.2]\n [5.1 3.4 1.5 0.2]\n [5.  3.5 1.3 0.3]\n [4.5 2.3 1.3 0.3]\n [4.4 3.2 1.3 0.2]\n [5.  3.5 1.6 0.6]\n [5.1 3.8 1.9 0.4]\n [4.8 3.  1.4 0.3]\n [5.1 3.8 1.6 0.2]\n [4.6 3.2 1.4 0.2]\n [5.3 3.7 1.5 0.2]\n [5.  3.3 1.4 0.2]\n [7.  3.2 4.7 1.4]\n [6.4 3.2 4.5 1.5]\n [6.9 3.1 4.9 1.5]\n [5.5 2.3 4.  1.3]\n [6.5 2.8 4.6 1.5]\n [5.7 2.8 4.5 1.3]\n [6.3 3.3 4.7 1.6]\n [4.9 2.4 3.3 1. ]\n [6.6 2.9 4.6 1.3]\n [5.2 2.7 3.9 1.4]\n [5.  2.  3.5 1. ]\n [5.9 3.  4.2 1.5]\n [6.  2.2 4.  1. ]\n [6.1 2.9 4.7 1.4]\n [5.6 2.9 3.6 1.3]\n [6.7 3.1 4.4 1.4]\n [5.6 3.  4.5 1.5]\n [5.8 2.7 4.1 1. ]\n [6.2 2.2 4.5 1.5]\n [5.6 2.5 3.9 1.1]\n [5.9 3.2 4.8 1.8]\n [6.1 2.8 4.  1.3]\n [6.3 2.5 4.9 1.5]\n [6.1 2.8 4.7 1.2]\n [6.4 2.9 4.3 1.3]\n [6.6 3.  4.4 1.4]\n [6.8 2.8 4.8 1.4]\n [6.7 3.  5.  1.7]\n [6.  2.9 4.5 1.5]\n [5.7 2.6 3.5 1. ]\n [5.5 2.4 3.8 1.1]\n [5.5 2.4 3.7 1. ]\n [5.8 2.7 3.9 1.2]\n [6.  2.7 5.1 1.6]\n [5.4 3.  4.5 1.5]\n [6.  3.4 4.5 1.6]\n [6.7 3.1 4.7 1.5]\n [6.3 2.3 4.4 1.3]\n [5.6 3.  4.1 1.3]\n [5.5 2.5 4.  1.3]\n [5.5 2.6 4.4 1.2]\n [6.1 3.  4.6 1.4]\n [5.8 2.6 4.  1.2]\n [5.  2.3 3.3 1. ]\n [5.6 2.7 4.2 1.3]\n [5.7 3.  4.2 1.2]\n [5.7 2.9 4.2 1.3]\n [6.2 2.9 4.3 1.3]\n [5.1 2.5 3.  1.1]\n [5.7 2.8 4.1 1.3]\n [6.3 3.3 6.  2.5]\n [5.8 2.7 5.1 1.9]\n [7.1 3.  5.9 2.1]\n [6.3 2.9 5.6 1.8]\n [6.5 3.  5.8 2.2]\n [7.6 3.  6.6 2.1]\n [4.9 2.5 4.5 1.7]\n [7.3 2.9 6.3 1.8]\n [6.7 2.5 5.8 1.8]\n [7.2 3.6 6.1 2.5]\n [6.5 3.2 5.1 2. ]\n [6.4 2.7 5.3 1.9]\n [6.8 3.  5.5 2.1]\n [5.7 2.5 5.  2. ]\n [5.8 2.8 5.1 2.4]\n [6.4 3.2 5.3 2.3]\n [6.5 3.  5.5 1.8]\n [7.7 3.8 6.7 2.2]\n [7.7 2.6 6.9 2.3]\n [6.  2.2 5.  1.5]\n [6.9 3.2 5.7 2.3]\n [5.6 2.8 4.9 2. ]\n [7.7 2.8 6.7 2. ]\n [6.3 2.7 4.9 1.8]\n [6.7 3.3 5.7 2.1]\n [7.2 3.2 6.  1.8]\n [6.2 2.8 4.8 1.8]\n [6.1 3.  4.9 1.8]\n [6.4 2.8 5.6 2.1]\n [7.2 3.  5.8 1.6]\n [7.4 2.8 6.1 1.9]\n [7.9 3.8 6.4 2. ]\n [6.4 2.8 5.6 2.2]\n [6.3 2.8 5.1 1.5]\n [6.1 2.6 5.6 1.4]\n [7.7 3.  6.1 2.3]\n [6.3 3.4 5.6 2.4]\n [6.4 3.1 5.5 1.8]\n [6.  3.  4.8 1.8]\n [6.9 3.1 5.4 2.1]\n [6.7 3.1 5.6 2.4]\n [6.9 3.1 5.1 2.3]\n [5.8 2.7 5.1 1.9]\n [6.8 3.2 5.9 2.3]\n [6.7 3.3 5.7 2.5]\n [6.7 3.  5.2 2.3]\n [6.3 2.5 5.  1.9]\n [6.5 3.  5.2 2. ]\n [6.2 3.4 5.4 2.3]\n [5.9 3.  5.1 1.8]]\n"
     ]
    }
   ],
   "source": [
    "from sklearn.datasets import load_iris\n",
    "\n",
    "#load iris data set\n",
    "\n",
    "iris = load_iris().data[:, :]\n",
    "print(iris)"
   ]
  },
  {
   "cell_type": "code",
   "execution_count": 78,
   "metadata": {},
   "outputs": [
    {
     "output_type": "stream",
     "name": "stdout",
     "text": [
      "[[5.1 4.9 4.7 4.6 5.  5.4 4.6 5.  4.4 4.9 5.4 4.8 4.8 4.3 5.8 5.7 5.4 5.1\n  5.7 5.1 5.4 5.1 4.6 5.1 4.8 5.  5.  5.2 5.2 4.7 4.8 5.4 5.2 5.5 4.9 5.\n  5.5 4.9 4.4 5.1 5.  4.5 4.4 5.  5.1 4.8 5.1 4.6 5.3 5.  7.  6.4 6.9 5.5\n  6.5 5.7 6.3 4.9 6.6 5.2 5.  5.9 6.  6.1 5.6 6.7 5.6 5.8 6.2 5.6 5.9 6.1\n  6.3 6.1 6.4 6.6 6.8 6.7 6.  5.7 5.5 5.5 5.8 6.  5.4 6.  6.7 6.3 5.6 5.5\n  5.5 6.1 5.8 5.  5.6 5.7 5.7 6.2 5.1 5.7 6.3 5.8 7.1 6.3 6.5 7.6 4.9 7.3\n  6.7 7.2 6.5 6.4 6.8 5.7 5.8 6.4 6.5 7.7 7.7 6.  6.9 5.6 7.7 6.3 6.7 7.2\n  6.2 6.1 6.4 7.2 7.4 7.9 6.4 6.3 6.1 7.7 6.3 6.4 6.  6.9 6.7 6.9 5.8 6.8\n  6.7 6.7 6.3 6.5 6.2 5.9]\n [3.5 3.  3.2 3.1 3.6 3.9 3.4 3.4 2.9 3.1 3.7 3.4 3.  3.  4.  4.4 3.9 3.5\n  3.8 3.8 3.4 3.7 3.6 3.3 3.4 3.  3.4 3.5 3.4 3.2 3.1 3.4 4.1 4.2 3.1 3.2\n  3.5 3.6 3.  3.4 3.5 2.3 3.2 3.5 3.8 3.  3.8 3.2 3.7 3.3 3.2 3.2 3.1 2.3\n  2.8 2.8 3.3 2.4 2.9 2.7 2.  3.  2.2 2.9 2.9 3.1 3.  2.7 2.2 2.5 3.2 2.8\n  2.5 2.8 2.9 3.  2.8 3.  2.9 2.6 2.4 2.4 2.7 2.7 3.  3.4 3.1 2.3 3.  2.5\n  2.6 3.  2.6 2.3 2.7 3.  2.9 2.9 2.5 2.8 3.3 2.7 3.  2.9 3.  3.  2.5 2.9\n  2.5 3.6 3.2 2.7 3.  2.5 2.8 3.2 3.  3.8 2.6 2.2 3.2 2.8 2.8 2.7 3.3 3.2\n  2.8 3.  2.8 3.  2.8 3.8 2.8 2.8 2.6 3.  3.4 3.1 3.  3.1 3.1 3.1 2.7 3.2\n  3.3 3.  2.5 3.  3.4 3. ]\n [1.4 1.4 1.3 1.5 1.4 1.7 1.4 1.5 1.4 1.5 1.5 1.6 1.4 1.1 1.2 1.5 1.3 1.4\n  1.7 1.5 1.7 1.5 1.  1.7 1.9 1.6 1.6 1.5 1.4 1.6 1.6 1.5 1.5 1.4 1.5 1.2\n  1.3 1.4 1.3 1.5 1.3 1.3 1.3 1.6 1.9 1.4 1.6 1.4 1.5 1.4 4.7 4.5 4.9 4.\n  4.6 4.5 4.7 3.3 4.6 3.9 3.5 4.2 4.  4.7 3.6 4.4 4.5 4.1 4.5 3.9 4.8 4.\n  4.9 4.7 4.3 4.4 4.8 5.  4.5 3.5 3.8 3.7 3.9 5.1 4.5 4.5 4.7 4.4 4.1 4.\n  4.4 4.6 4.  3.3 4.2 4.2 4.2 4.3 3.  4.1 6.  5.1 5.9 5.6 5.8 6.6 4.5 6.3\n  5.8 6.1 5.1 5.3 5.5 5.  5.1 5.3 5.5 6.7 6.9 5.  5.7 4.9 6.7 4.9 5.7 6.\n  4.8 4.9 5.6 5.8 6.1 6.4 5.6 5.1 5.6 6.1 5.6 5.5 4.8 5.4 5.6 5.1 5.1 5.9\n  5.7 5.2 5.  5.2 5.4 5.1]\n [0.2 0.2 0.2 0.2 0.2 0.4 0.3 0.2 0.2 0.1 0.2 0.2 0.1 0.1 0.2 0.4 0.4 0.3\n  0.3 0.3 0.2 0.4 0.2 0.5 0.2 0.2 0.4 0.2 0.2 0.2 0.2 0.4 0.1 0.2 0.2 0.2\n  0.2 0.1 0.2 0.2 0.3 0.3 0.2 0.6 0.4 0.3 0.2 0.2 0.2 0.2 1.4 1.5 1.5 1.3\n  1.5 1.3 1.6 1.  1.3 1.4 1.  1.5 1.  1.4 1.3 1.4 1.5 1.  1.5 1.1 1.8 1.3\n  1.5 1.2 1.3 1.4 1.4 1.7 1.5 1.  1.1 1.  1.2 1.6 1.5 1.6 1.5 1.3 1.3 1.3\n  1.2 1.4 1.2 1.  1.3 1.2 1.3 1.3 1.1 1.3 2.5 1.9 2.1 1.8 2.2 2.1 1.7 1.8\n  1.8 2.5 2.  1.9 2.1 2.  2.4 2.3 1.8 2.2 2.3 1.5 2.3 2.  2.  1.8 2.1 1.8\n  1.8 1.8 2.1 1.6 1.9 2.  2.2 1.5 1.4 2.3 2.4 1.8 1.8 2.1 2.4 2.3 1.9 2.3\n  2.5 2.3 1.9 2.  2.3 1.8]]\n"
     ]
    }
   ],
   "source": [
    "print(iris.T)"
   ]
  },
  {
   "cell_type": "code",
   "execution_count": 79,
   "metadata": {},
   "outputs": [
    {
     "output_type": "execute_result",
     "data": {
      "text/plain": [
       "array([[5.1, 3.5, 1.4, 0.2],\n",
       "       [4.9, 3. , 1.4, 0.2],\n",
       "       [4.7, 3.2, 1.3, 0.2],\n",
       "       [4.6, 3.1, 1.5, 0.2],\n",
       "       [5. , 3.6, 1.4, 0.2],\n",
       "       [5.4, 3.9, 1.7, 0.4],\n",
       "       [4.6, 3.4, 1.4, 0.3],\n",
       "       [5. , 3.4, 1.5, 0.2],\n",
       "       [4.4, 2.9, 1.4, 0.2],\n",
       "       [4.9, 3.1, 1.5, 0.1],\n",
       "       [5.4, 3.7, 1.5, 0.2],\n",
       "       [4.8, 3.4, 1.6, 0.2],\n",
       "       [4.8, 3. , 1.4, 0.1],\n",
       "       [4.3, 3. , 1.1, 0.1],\n",
       "       [5.8, 4. , 1.2, 0.2],\n",
       "       [5.7, 4.4, 1.5, 0.4],\n",
       "       [5.4, 3.9, 1.3, 0.4],\n",
       "       [5.1, 3.5, 1.4, 0.3],\n",
       "       [5.7, 3.8, 1.7, 0.3],\n",
       "       [5.1, 3.8, 1.5, 0.3],\n",
       "       [5.4, 3.4, 1.7, 0.2],\n",
       "       [5.1, 3.7, 1.5, 0.4],\n",
       "       [4.6, 3.6, 1. , 0.2],\n",
       "       [5.1, 3.3, 1.7, 0.5],\n",
       "       [4.8, 3.4, 1.9, 0.2],\n",
       "       [5. , 3. , 1.6, 0.2],\n",
       "       [5. , 3.4, 1.6, 0.4],\n",
       "       [5.2, 3.5, 1.5, 0.2],\n",
       "       [5.2, 3.4, 1.4, 0.2],\n",
       "       [4.7, 3.2, 1.6, 0.2],\n",
       "       [4.8, 3.1, 1.6, 0.2],\n",
       "       [5.4, 3.4, 1.5, 0.4],\n",
       "       [5.2, 4.1, 1.5, 0.1],\n",
       "       [5.5, 4.2, 1.4, 0.2],\n",
       "       [4.9, 3.1, 1.5, 0.2],\n",
       "       [5. , 3.2, 1.2, 0.2],\n",
       "       [5.5, 3.5, 1.3, 0.2],\n",
       "       [4.9, 3.6, 1.4, 0.1],\n",
       "       [4.4, 3. , 1.3, 0.2],\n",
       "       [5.1, 3.4, 1.5, 0.2],\n",
       "       [5. , 3.5, 1.3, 0.3],\n",
       "       [4.5, 2.3, 1.3, 0.3],\n",
       "       [4.4, 3.2, 1.3, 0.2],\n",
       "       [5. , 3.5, 1.6, 0.6],\n",
       "       [5.1, 3.8, 1.9, 0.4],\n",
       "       [4.8, 3. , 1.4, 0.3],\n",
       "       [5.1, 3.8, 1.6, 0.2],\n",
       "       [4.6, 3.2, 1.4, 0.2],\n",
       "       [5.3, 3.7, 1.5, 0.2],\n",
       "       [5. , 3.3, 1.4, 0.2],\n",
       "       [7. , 3.2, 4.7, 1.4],\n",
       "       [6.4, 3.2, 4.5, 1.5],\n",
       "       [6.9, 3.1, 4.9, 1.5],\n",
       "       [5.5, 2.3, 4. , 1.3],\n",
       "       [6.5, 2.8, 4.6, 1.5],\n",
       "       [5.7, 2.8, 4.5, 1.3],\n",
       "       [6.3, 3.3, 4.7, 1.6],\n",
       "       [4.9, 2.4, 3.3, 1. ],\n",
       "       [6.6, 2.9, 4.6, 1.3],\n",
       "       [5.2, 2.7, 3.9, 1.4],\n",
       "       [5. , 2. , 3.5, 1. ],\n",
       "       [5.9, 3. , 4.2, 1.5],\n",
       "       [6. , 2.2, 4. , 1. ],\n",
       "       [6.1, 2.9, 4.7, 1.4],\n",
       "       [5.6, 2.9, 3.6, 1.3],\n",
       "       [6.7, 3.1, 4.4, 1.4],\n",
       "       [5.6, 3. , 4.5, 1.5],\n",
       "       [5.8, 2.7, 4.1, 1. ],\n",
       "       [6.2, 2.2, 4.5, 1.5],\n",
       "       [5.6, 2.5, 3.9, 1.1],\n",
       "       [5.9, 3.2, 4.8, 1.8],\n",
       "       [6.1, 2.8, 4. , 1.3],\n",
       "       [6.3, 2.5, 4.9, 1.5],\n",
       "       [6.1, 2.8, 4.7, 1.2],\n",
       "       [6.4, 2.9, 4.3, 1.3],\n",
       "       [6.6, 3. , 4.4, 1.4],\n",
       "       [6.8, 2.8, 4.8, 1.4],\n",
       "       [6.7, 3. , 5. , 1.7],\n",
       "       [6. , 2.9, 4.5, 1.5],\n",
       "       [5.7, 2.6, 3.5, 1. ],\n",
       "       [5.5, 2.4, 3.8, 1.1],\n",
       "       [5.5, 2.4, 3.7, 1. ],\n",
       "       [5.8, 2.7, 3.9, 1.2],\n",
       "       [6. , 2.7, 5.1, 1.6],\n",
       "       [5.4, 3. , 4.5, 1.5],\n",
       "       [6. , 3.4, 4.5, 1.6],\n",
       "       [6.7, 3.1, 4.7, 1.5],\n",
       "       [6.3, 2.3, 4.4, 1.3],\n",
       "       [5.6, 3. , 4.1, 1.3],\n",
       "       [5.5, 2.5, 4. , 1.3],\n",
       "       [5.5, 2.6, 4.4, 1.2],\n",
       "       [6.1, 3. , 4.6, 1.4],\n",
       "       [5.8, 2.6, 4. , 1.2],\n",
       "       [5. , 2.3, 3.3, 1. ],\n",
       "       [5.6, 2.7, 4.2, 1.3],\n",
       "       [5.7, 3. , 4.2, 1.2],\n",
       "       [5.7, 2.9, 4.2, 1.3],\n",
       "       [6.2, 2.9, 4.3, 1.3],\n",
       "       [5.1, 2.5, 3. , 1.1],\n",
       "       [5.7, 2.8, 4.1, 1.3],\n",
       "       [6.3, 3.3, 6. , 2.5],\n",
       "       [5.8, 2.7, 5.1, 1.9],\n",
       "       [7.1, 3. , 5.9, 2.1],\n",
       "       [6.3, 2.9, 5.6, 1.8],\n",
       "       [6.5, 3. , 5.8, 2.2],\n",
       "       [7.6, 3. , 6.6, 2.1],\n",
       "       [4.9, 2.5, 4.5, 1.7],\n",
       "       [7.3, 2.9, 6.3, 1.8],\n",
       "       [6.7, 2.5, 5.8, 1.8],\n",
       "       [7.2, 3.6, 6.1, 2.5],\n",
       "       [6.5, 3.2, 5.1, 2. ],\n",
       "       [6.4, 2.7, 5.3, 1.9],\n",
       "       [6.8, 3. , 5.5, 2.1],\n",
       "       [5.7, 2.5, 5. , 2. ],\n",
       "       [5.8, 2.8, 5.1, 2.4],\n",
       "       [6.4, 3.2, 5.3, 2.3],\n",
       "       [6.5, 3. , 5.5, 1.8],\n",
       "       [7.7, 3.8, 6.7, 2.2],\n",
       "       [7.7, 2.6, 6.9, 2.3],\n",
       "       [6. , 2.2, 5. , 1.5],\n",
       "       [6.9, 3.2, 5.7, 2.3],\n",
       "       [5.6, 2.8, 4.9, 2. ],\n",
       "       [7.7, 2.8, 6.7, 2. ],\n",
       "       [6.3, 2.7, 4.9, 1.8],\n",
       "       [6.7, 3.3, 5.7, 2.1],\n",
       "       [7.2, 3.2, 6. , 1.8],\n",
       "       [6.2, 2.8, 4.8, 1.8],\n",
       "       [6.1, 3. , 4.9, 1.8],\n",
       "       [6.4, 2.8, 5.6, 2.1],\n",
       "       [7.2, 3. , 5.8, 1.6],\n",
       "       [7.4, 2.8, 6.1, 1.9],\n",
       "       [7.9, 3.8, 6.4, 2. ],\n",
       "       [6.4, 2.8, 5.6, 2.2],\n",
       "       [6.3, 2.8, 5.1, 1.5],\n",
       "       [6.1, 2.6, 5.6, 1.4],\n",
       "       [7.7, 3. , 6.1, 2.3],\n",
       "       [6.3, 3.4, 5.6, 2.4],\n",
       "       [6.4, 3.1, 5.5, 1.8],\n",
       "       [6. , 3. , 4.8, 1.8],\n",
       "       [6.9, 3.1, 5.4, 2.1],\n",
       "       [6.7, 3.1, 5.6, 2.4],\n",
       "       [6.9, 3.1, 5.1, 2.3],\n",
       "       [5.8, 2.7, 5.1, 1.9],\n",
       "       [6.8, 3.2, 5.9, 2.3],\n",
       "       [6.7, 3.3, 5.7, 2.5],\n",
       "       [6.7, 3. , 5.2, 2.3],\n",
       "       [6.3, 2.5, 5. , 1.9],\n",
       "       [6.5, 3. , 5.2, 2. ],\n",
       "       [6.2, 3.4, 5.4, 2.3],\n",
       "       [5.9, 3. , 5.1, 1.8]])"
      ]
     },
     "metadata": {},
     "execution_count": 79
    }
   ],
   "source": [
    "iris_cp = iris.copy()\n",
    "iris_cp"
   ]
  },
  {
   "cell_type": "code",
   "execution_count": 86,
   "metadata": {},
   "outputs": [],
   "source": [
    "X = np.random.rand(4,4)"
   ]
  },
  {
   "cell_type": "code",
   "execution_count": 88,
   "metadata": {},
   "outputs": [
    {
     "output_type": "stream",
     "name": "stdout",
     "text": [
      "[[1.25956667 1.08179529 0.66945183 1.01441545]\n [1.08179529 1.62729477 1.11273297 1.46514121]\n [0.66945183 1.11273297 1.40578818 1.48458255]\n [1.01441545 1.46514121 1.48458255 1.69673147]]\n"
     ]
    }
   ],
   "source": [
    "#matrix product\n",
    "X_sq =X.T.dot(X)\n",
    "print(X_sq)"
   ]
  },
  {
   "cell_type": "code",
   "execution_count": 89,
   "metadata": {},
   "outputs": [
    {
     "output_type": "stream",
     "name": "stdout",
     "text": [
      "[[  2637.88641532   3915.55025236  11588.34769178 -15097.61915162]\n [  3915.55025236   5822.67964695  17218.01315626 -22434.07700381]\n [ 11588.34769178  17218.01315626  50944.13153625 -66370.5425784 ]\n [-15097.61915162 -22434.07700381 -66370.5425784   86470.90054906]]\n"
     ]
    }
   ],
   "source": [
    "#Matrix Inverse\n",
    "X_sq_inv = ln.inv(X_sq)\n",
    "print(X_sq_inv)"
   ]
  },
  {
   "cell_type": "code",
   "execution_count": 90,
   "metadata": {},
   "outputs": [
    {
     "output_type": "stream",
     "name": "stdout",
     "text": [
      "[95.95991387 17.76103366  3.46093093  1.88482631]\n"
     ]
    }
   ],
   "source": [
    "#SVD decomposition of iris_cp\n",
    "iris_svd = ln.svd(iris_cp)\n",
    "print(iris_svd[1])"
   ]
  },
  {
   "cell_type": "code",
   "execution_count": 91,
   "metadata": {},
   "outputs": [
    {
     "output_type": "stream",
     "name": "stdout",
     "text": [
      "[[-0.06161685  0.12961144  0.0021386  ... -0.09343429 -0.09573864\n  -0.08085465]\n [-0.05807094  0.11101978  0.07067239 ...  0.03690405 -0.03153954\n   0.01309526]\n [-0.05676305  0.11796647  0.00434255 ...  0.03066199  0.19531473\n   0.13569909]\n ...\n [-0.0940593  -0.0498297  -0.04144001 ...  0.98181631 -0.02194514\n  -0.00894446]\n [-0.09488961 -0.05610123 -0.21297821 ... -0.02155617  0.94178018\n  -0.02971961]\n [-0.08847836 -0.0515697  -0.09575285 ... -0.0086052  -0.03021088\n   0.9736599 ]]\n"
     ]
    }
   ],
   "source": [
    "#Left-Singular vectors\n",
    "print(iris_svd[0])"
   ]
  },
  {
   "cell_type": "code",
   "execution_count": 92,
   "metadata": {},
   "outputs": [
    {
     "output_type": "stream",
     "name": "stdout",
     "text": [
      "(150, 150)\n"
     ]
    }
   ],
   "source": [
    "print(iris_svd[0].shape)"
   ]
  },
  {
   "cell_type": "code",
   "execution_count": 93,
   "metadata": {},
   "outputs": [
    {
     "output_type": "stream",
     "name": "stdout",
     "text": [
      "[[-0.75110816 -0.38008617 -0.51300886 -0.16790754]\n [ 0.2841749   0.5467445  -0.70866455 -0.34367081]\n [ 0.50215472 -0.67524332 -0.05916621 -0.53701625]\n [ 0.32081425 -0.31725607 -0.48074507  0.75187165]]\n"
     ]
    }
   ],
   "source": [
    "#Right-simulator vector\n",
    "print(iris_svd[2])"
   ]
  },
  {
   "cell_type": "code",
   "execution_count": 94,
   "metadata": {},
   "outputs": [
    {
     "output_type": "stream",
     "name": "stdout",
     "text": [
      "(4, 4)\n"
     ]
    }
   ],
   "source": [
    "print(iris_svd[2].shape)"
   ]
  },
  {
   "source": [
    "## Employing array methods and functions"
   ],
   "cell_type": "markdown",
   "metadata": {}
  },
  {
   "cell_type": "code",
   "execution_count": 95,
   "metadata": {},
   "outputs": [
    {
     "output_type": "stream",
     "name": "stdout",
     "text": [
      "[[ -1  -5   8   7]\n [  1  13   4 -12]\n [ -1 -11   0  11]\n [  0  -1  -8  21]]\n"
     ]
    }
   ],
   "source": [
    "import numpy as np \n",
    "from numpy.random import randn\n",
    "\n",
    "arr1 = np.array(randn(4,4)*10,dtype = np.int8)\n",
    "print(arr1)"
   ]
  },
  {
   "cell_type": "code",
   "execution_count": 96,
   "metadata": {},
   "outputs": [
    {
     "output_type": "execute_result",
     "data": {
      "text/plain": [
       "[[-1, -5, 8, 7], [1, 13, 4, -12], [-1, -11, 0, 11], [0, -1, -8, 21]]"
      ]
     },
     "metadata": {},
     "execution_count": 96
    }
   ],
   "source": [
    "arr1.tolist()"
   ]
  },
  {
   "cell_type": "code",
   "execution_count": 97,
   "metadata": {},
   "outputs": [
    {
     "output_type": "execute_result",
     "data": {
      "text/plain": [
       "array([ -1,  -5,   8,   7,   1,  13,   4, -12,  -1, -11,   0,  11,   0,\n",
       "        -1,  -8,  21], dtype=int8)"
      ]
     },
     "metadata": {},
     "execution_count": 97
    }
   ],
   "source": [
    "arr1.flatten()"
   ]
  },
  {
   "cell_type": "code",
   "execution_count": 99,
   "metadata": {},
   "outputs": [
    {
     "output_type": "execute_result",
     "data": {
      "text/plain": [
       "array([['Carlos', 'Carlos', 'Carlos'],\n",
       "       ['Carlos', 'Carlos', 'Carlos'],\n",
       "       ['Carlos', 'Carlos', 'Carlos'],\n",
       "       ['Carlos', 'Carlos', 'Carlos']], dtype='<U16')"
      ]
     },
     "metadata": {},
     "execution_count": 99
    }
   ],
   "source": [
    "arr2 = np.empty((4,3),dtype=np.dtype('<U16'))\n",
    "arr2.fill(\"Carlos\")\n",
    "arr2"
   ]
  },
  {
   "cell_type": "code",
   "execution_count": 100,
   "metadata": {},
   "outputs": [
    {
     "output_type": "execute_result",
     "data": {
      "text/plain": [
       "26"
      ]
     },
     "metadata": {},
     "execution_count": 100
    }
   ],
   "source": [
    "arr1.sum()"
   ]
  },
  {
   "cell_type": "code",
   "execution_count": 102,
   "metadata": {},
   "outputs": [
    {
     "output_type": "execute_result",
     "data": {
      "text/plain": [
       "array([ 9,  6, -1, 12])"
      ]
     },
     "metadata": {},
     "execution_count": 102
    }
   ],
   "source": [
    "arr1.sum(axis=1)"
   ]
  },
  {
   "cell_type": "code",
   "execution_count": 103,
   "metadata": {},
   "outputs": [
    {
     "output_type": "execute_result",
     "data": {
      "text/plain": [
       "array([[-1, -5,  8,  7],\n",
       "       [ 0,  8, 12, -5],\n",
       "       [-1, -3, 12,  6],\n",
       "       [-1, -4,  4, 27]])"
      ]
     },
     "metadata": {},
     "execution_count": 103
    }
   ],
   "source": [
    "#cumulative sums\n",
    "arr1.cumsum(axis=0)"
   ]
  },
  {
   "cell_type": "code",
   "execution_count": 104,
   "metadata": {},
   "outputs": [
    {
     "output_type": "execute_result",
     "data": {
      "text/plain": [
       "array([[-1, -1,  1,  1],\n",
       "       [ 1,  1,  1, -1],\n",
       "       [-1, -1,  0,  1],\n",
       "       [ 0, -1, -1,  1]], dtype=int8)"
      ]
     },
     "metadata": {},
     "execution_count": 104
    }
   ],
   "source": [
    "#Vectorization with ufuncs\n",
    "np.sign(arr1)"
   ]
  },
  {
   "cell_type": "code",
   "execution_count": 106,
   "metadata": {},
   "outputs": [
    {
     "output_type": "execute_result",
     "data": {
      "text/plain": [
       "array([[-1, -1,  1,  1],\n",
       "       [ 1,  1,  1, -1],\n",
       "       [-1, -1,  0,  1],\n",
       "       [ 0, -1, -1,  1]], dtype=int8)"
      ]
     },
     "metadata": {},
     "execution_count": 106
    }
   ],
   "source": [
    "arr1 =np.sign(arr1)\n",
    "arr1"
   ]
  },
  {
   "cell_type": "code",
   "execution_count": 107,
   "metadata": {},
   "outputs": [
    {
     "output_type": "execute_result",
     "data": {
      "text/plain": [
       "array([[1., 1., 1., 1.],\n",
       "       [1., 1., 1., 1.],\n",
       "       [1., 1., 0., 1.],\n",
       "       [0., 1., 1., 1.]], dtype=float16)"
      ]
     },
     "metadata": {},
     "execution_count": 107
    }
   ],
   "source": [
    "#square root\n",
    "np.sqrt(arr1 * np.sign(arr1))"
   ]
  },
  {
   "cell_type": "code",
   "execution_count": 108,
   "metadata": {},
   "outputs": [
    {
     "output_type": "execute_result",
     "data": {
      "text/plain": [
       "20"
      ]
     },
     "metadata": {},
     "execution_count": 108
    }
   ],
   "source": [
    "def tr(a):\n",
    "    if (a>0):\n",
    "        return a\n",
    "    else:\n",
    "        return 0\n",
    "\n",
    "#testing tr()\n",
    "tr(20)"
   ]
  },
  {
   "cell_type": "code",
   "execution_count": 109,
   "metadata": {},
   "outputs": [
    {
     "output_type": "execute_result",
     "data": {
      "text/plain": [
       "0"
      ]
     },
     "metadata": {},
     "execution_count": 109
    }
   ],
   "source": [
    "tr(-20)"
   ]
  },
  {
   "cell_type": "code",
   "execution_count": 110,
   "metadata": {},
   "outputs": [
    {
     "output_type": "stream",
     "name": "stdout",
     "text": [
      "[[False False  True  True]\n [ True  True  True False]\n [False False False  True]\n [False False False  True]]\n"
     ]
    }
   ],
   "source": [
    "print(arr1>0)"
   ]
  },
  {
   "cell_type": "code",
   "execution_count": 111,
   "metadata": {},
   "outputs": [
    {
     "output_type": "error",
     "ename": "ValueError",
     "evalue": "The truth value of an array with more than one element is ambiguous. Use a.any() or a.all()",
     "traceback": [
      "\u001b[0;31m---------------------------------------------------------------------------\u001b[0m",
      "\u001b[0;31mValueError\u001b[0m                                Traceback (most recent call last)",
      "\u001b[0;32m<ipython-input-111-48468be0da44>\u001b[0m in \u001b[0;36m<module>\u001b[0;34m\u001b[0m\n\u001b[0;32m----> 1\u001b[0;31m \u001b[0mtr\u001b[0m\u001b[0;34m(\u001b[0m\u001b[0marr1\u001b[0m\u001b[0;34m)\u001b[0m\u001b[0;34m\u001b[0m\u001b[0;34m\u001b[0m\u001b[0m\n\u001b[0m",
      "\u001b[0;32m<ipython-input-108-30da73b17a5d>\u001b[0m in \u001b[0;36mtr\u001b[0;34m(a)\u001b[0m\n\u001b[1;32m      1\u001b[0m \u001b[0;32mdef\u001b[0m \u001b[0mtr\u001b[0m\u001b[0;34m(\u001b[0m\u001b[0ma\u001b[0m\u001b[0;34m)\u001b[0m\u001b[0;34m:\u001b[0m\u001b[0;34m\u001b[0m\u001b[0;34m\u001b[0m\u001b[0m\n\u001b[0;32m----> 2\u001b[0;31m     \u001b[0;32mif\u001b[0m \u001b[0;34m(\u001b[0m\u001b[0ma\u001b[0m\u001b[0;34m>\u001b[0m\u001b[0;36m0\u001b[0m\u001b[0;34m)\u001b[0m\u001b[0;34m:\u001b[0m\u001b[0;34m\u001b[0m\u001b[0;34m\u001b[0m\u001b[0m\n\u001b[0m\u001b[1;32m      3\u001b[0m         \u001b[0;32mreturn\u001b[0m \u001b[0ma\u001b[0m\u001b[0;34m\u001b[0m\u001b[0;34m\u001b[0m\u001b[0m\n\u001b[1;32m      4\u001b[0m     \u001b[0;32melse\u001b[0m\u001b[0;34m:\u001b[0m\u001b[0;34m\u001b[0m\u001b[0;34m\u001b[0m\u001b[0m\n\u001b[1;32m      5\u001b[0m         \u001b[0;32mreturn\u001b[0m \u001b[0;36m0\u001b[0m\u001b[0;34m\u001b[0m\u001b[0;34m\u001b[0m\u001b[0m\n",
      "\u001b[0;31mValueError\u001b[0m: The truth value of an array with more than one element is ambiguous. Use a.any() or a.all()"
     ]
    }
   ],
   "source": [
    "tr(arr1)"
   ]
  },
  {
   "cell_type": "code",
   "execution_count": 112,
   "metadata": {},
   "outputs": [
    {
     "output_type": "execute_result",
     "data": {
      "text/plain": [
       "array([[0, 0, 1, 1],\n",
       "       [1, 1, 1, 0],\n",
       "       [0, 0, 0, 1],\n",
       "       [0, 0, 0, 1]])"
      ]
     },
     "metadata": {},
     "execution_count": 112
    }
   ],
   "source": [
    "tr_vec =np.vectorize(tr)\n",
    "tr_vec(arr1)"
   ]
  },
  {
   "cell_type": "code",
   "execution_count": 113,
   "metadata": {},
   "outputs": [
    {
     "output_type": "execute_result",
     "data": {
      "text/plain": [
       "array([[0, 0, 1, 1],\n",
       "       [1, 1, 1, 0],\n",
       "       [0, 0, 0, 1],\n",
       "       [0, 0, 0, 1]], dtype=int8)"
      ]
     },
     "metadata": {},
     "execution_count": 113
    }
   ],
   "source": [
    "def tr_vec_fast(arr):\n",
    "    ret_arr = arr.copy()\n",
    "    ret_arr[arr<=0]=0\n",
    "    return ret_arr\n",
    "\n",
    "tr_vec_fast(arr1)"
   ]
  },
  {
   "cell_type": "code",
   "execution_count": 114,
   "metadata": {},
   "outputs": [
    {
     "output_type": "stream",
     "name": "stdout",
     "text": [
      "21.4 µs ± 548 ns per loop (mean ± std. dev. of 7 runs, 10000 loops each)\n"
     ]
    }
   ],
   "source": [
    "%timeit tr_vec(arr1)"
   ]
  },
  {
   "cell_type": "code",
   "execution_count": 115,
   "metadata": {},
   "outputs": [
    {
     "output_type": "stream",
     "name": "stdout",
     "text": [
      "3.43 µs ± 44.9 ns per loop (mean ± std. dev. of 7 runs, 100000 loops each)\n"
     ]
    }
   ],
   "source": [
    "%timeit tr_vec_fast(arr1)"
   ]
  }
 ],
 "metadata": {
  "kernelspec": {
   "name": "python3",
   "display_name": "Python 3.8.5 64-bit",
   "metadata": {
    "interpreter": {
     "hash": "31f2aee4e71d21fbe5cf8b01ff0e069b9275f58929596ceb00d14d90e3e16cd6"
    }
   }
  },
  "language_info": {
   "codemirror_mode": {
    "name": "ipython",
    "version": 3
   },
   "file_extension": ".py",
   "mimetype": "text/x-python",
   "name": "python",
   "nbconvert_exporter": "python",
   "pygments_lexer": "ipython3",
   "version": "3.8.5-final"
  }
 },
 "nbformat": 4,
 "nbformat_minor": 2
}